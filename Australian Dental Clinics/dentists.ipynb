{
 "cells": [
  {
   "cell_type": "markdown",
   "metadata": {},
   "source": [
    "# Webscraping with Selenium\n",
    "\n",
    "In the project below, I used Selenium to scrape data from a website ('https://healthengine.com.au/find/text/Australia/) that contain listings of different australian clinics.\n",
    "\n",
    "I focused on the dental clinic category and extracted information like\n",
    "\n",
    "- Name of the practice\n",
    "- Address of the practice\n",
    "- City where the practice is located\n",
    "- State where the practice is located\n",
    "- Postal code\n",
    "- Phone number\n",
    "- Fax number\n",
    "- Staff names\n",
    "- Website URL\n",
    "\n",
    "I scraped the first 500 listings and saved the extracted data in a CSV file."
   ]
  },
  {
   "cell_type": "code",
   "execution_count": 1,
   "metadata": {},
   "outputs": [],
   "source": [
    "import time\n",
    "from selenium import webdriver\n",
    "import pandas as pd"
   ]
  },
  {
   "cell_type": "code",
   "execution_count": 2,
   "metadata": {},
   "outputs": [],
   "source": [
    "chromedriver = \"C:\\Program Files\\chromedriver_win32\\chromedriver.exe\"\n",
    "driver = webdriver.Chrome(chromedriver)\n",
    "\n",
    "driver.get('https://healthengine.com.au/find/text/Australia/?search=Dentist')"
   ]
  },
  {
   "cell_type": "markdown",
   "metadata": {},
   "source": [
    "**The webpage has an infinite scroll mechanism, so I want to scroll through 50 pages then, I'LL GRAB ALL THE LINKS AT ONCE**"
   ]
  },
  {
   "cell_type": "code",
   "execution_count": 3,
   "metadata": {},
   "outputs": [],
   "source": [
    "page = 1\n",
    "while page < 50:\n",
    "    #driver.find_element_by_xpath('//*[@id=\"__next\"]/div/div/div/div[2]/div/div/div[1]/div[3]/div/div/div/div[3]/div[3]').click()\n",
    "    driver.find_element_by_class_name('ResultCountstyles__LoadMore-gdg866-4').click()\n",
    "    page += 1\n",
    "    time.sleep(1)\n",
    "    if page == 50:\n",
    "        break"
   ]
  },
  {
   "cell_type": "code",
   "execution_count": 4,
   "metadata": {},
   "outputs": [],
   "source": [
    "list_of_dental_links = []\n",
    "dental_list = driver.find_elements_by_class_name(\"ProfileNamestyles__Heading-tgn88t-1\")\n",
    "for el in dental_list:\n",
    "    tag = el.find_elements_by_tag_name(\"a\")\n",
    "    link = tag[0].get_property('href')\n",
    "        \n",
    "    list_of_dental_links.append(link)\n",
    "    time.sleep(1)"
   ]
  },
  {
   "cell_type": "code",
   "execution_count": 5,
   "metadata": {},
   "outputs": [],
   "source": [
    "df = pd.DataFrame({'links':list_of_dental_links})"
   ]
  },
  {
   "cell_type": "code",
   "execution_count": 6,
   "metadata": {},
   "outputs": [],
   "source": [
    "df.to_csv(r\"C:\\Users\\Babatolatemi\\Desktop\\Jupyter\\A programss\\DTS\\data train\\linklist.csv\")"
   ]
  },
  {
   "cell_type": "code",
   "execution_count": 9,
   "metadata": {},
   "outputs": [],
   "source": [
    "df = pd.read_csv('linklist.csv')\n",
    "links = df['links']"
   ]
  },
  {
   "cell_type": "code",
   "execution_count": 10,
   "metadata": {},
   "outputs": [
    {
     "data": {
      "text/plain": [
       "0    https://healthengine.com.au/dentist/wa/vasse/v...\n",
       "1    https://healthengine.com.au/dentist/wa/clarkso...\n",
       "2    https://healthengine.com.au/dentist/wa/pinjarr...\n",
       "3    https://healthengine.com.au/dentist/wa/alkimos...\n",
       "4    https://healthengine.com.au/dentist/wa/spearwo...\n",
       "Name: links, dtype: object"
      ]
     },
     "execution_count": 10,
     "metadata": {},
     "output_type": "execute_result"
    }
   ],
   "source": [
    "links.head()"
   ]
  },
  {
   "cell_type": "code",
   "execution_count": 95,
   "metadata": {},
   "outputs": [],
   "source": [
    "from tqdm import tqdm\n",
    "def scrape():\n",
    "    \"\"\"\n",
    "    This function loops through a list of links gotten from the healthengine website and extracts:\n",
    "            - name of dental clinic\n",
    "            - street of clinic\n",
    "            - city clinic is located\n",
    "            - state the clinic is located\n",
    "            - post code\n",
    "            - phone number(s)\n",
    "            - fax number(s)\n",
    "            - clinic website url\n",
    "            - staff names(s)\n",
    "            and saves all the scraped data into a dataframe\n",
    "    \"\"\"\n",
    "    \n",
    "    clinic_names = []\n",
    "    street_names = []\n",
    "    city_names = []\n",
    "    state_names = []\n",
    "    post_codes = []\n",
    "    phone_numbers = []\n",
    "    fax_numbers = []\n",
    "    clinic_urls = []\n",
    "    staff_names = []\n",
    "    for i in tqdm(links):\n",
    "    \n",
    "\n",
    "        driver.get(i)\n",
    "        #xpaths\n",
    "        try:\n",
    "            name =  driver.find_element_by_xpath('//*[@id=\"panelMain\"]/div[3]/div[2]/div[1]/div/div[2]/h1').text\n",
    "            clinic_names.append(name)\n",
    "                                                    \n",
    "        except:\n",
    "            try:\n",
    "                name = driver.find_element_by_xpath('//*[@id=\"panelMain\"]/div[2]/div[2]/div[1]/div/div[2]/h1').text\n",
    "                clinic_names.append(name)\n",
    "            except:\n",
    "                name = driver.find_element_by_xpath('//*[@id=\"panelMain\"]/div[3]/div[2]/div[1]/div/div/h1').text\n",
    "                clinic_names.append(name)\n",
    "    \n",
    "    \n",
    "        try:\n",
    "            Address = driver.find_element_by_xpath('//*[@id=\"contact-info\"]/div/div[1]/div/ul/li[1]/span').text\n",
    "\n",
    "            strt = Address.strip().split(',')[0]\n",
    "            clinicstreet = strt.split('\\n')[0]\n",
    "            street_names.append(clinicstreet)\n",
    "\n",
    "            c = Address.strip().split(' ')[-3]\n",
    "            city = c.split('\\n')[-1]\n",
    "            city_names.append(city)\n",
    "        \n",
    "            state = Address.strip().split(' ')[-2]\n",
    "            state_names.append(state)\n",
    "        \n",
    "            post = Address.strip().split(' ')[-1]\n",
    "            post_codes.append(post)\n",
    "\n",
    "        except:\n",
    "            street_names.append('not available')\n",
    "            city_names.append('not available')\n",
    "            state_names.append('not available')\n",
    "            post_codes.append('not available')\n",
    "\n",
    "    \n",
    "        try:\n",
    "            phone = driver.find_element_by_xpath('//*[@id=\"contact-info\"]/div/div[1]/div/ul/li[2]/span').get_attribute('data-tel')\n",
    "            phone_numbers.append(phone)\n",
    "        except:\n",
    "            phone = 'not available'\n",
    "            phone_numbers.append(phone)\n",
    "    \n",
    "    \n",
    "        try:\n",
    "            fax = driver.find_element_by_xpath('//*[@id=\"contact-info\"]/div/div[1]/div/ul/li[3]/span').get_attribute('data-tel')\n",
    "            fax_numbers.append(fax)\n",
    "        except:\n",
    "            fax = 'not available'\n",
    "            fax_numbers.append(fax)\n",
    "        \n",
    "        \n",
    "        try:\n",
    "            url = driver.find_element_by_xpath('//*[@id=\"practice-link\"]').text\n",
    "            clinic_urls.append(url)\n",
    "        except:\n",
    "            url = 'not available'\n",
    "            clinic_urls.append(url)\n",
    "        \n",
    "        \n",
    "        try:\n",
    "            Staff = driver.find_element_by_xpath('//*[@id=\"practice-staff\"]').text\n",
    "            st = Staff.split('\\n')\n",
    "            staff_list = []\n",
    "            for s in st:\n",
    "                if s.startswith('Dr'):\n",
    "                    staff_list.append(s)\n",
    "            staff_names.append(staff_list)\n",
    "        except:\n",
    "            Staff = 'not available'\n",
    "            staff_names.append(Staff)\n",
    "        \n",
    "        time.sleep(2)\n",
    "        \n",
    "    info = {\n",
    "        'Clinic Name': clinic_names,\n",
    "        'Clinic Street Address' : street_names,\n",
    "        'City': city_names,\n",
    "        'State': state_names,\n",
    "        'Postcode': post_codes,\n",
    "        'Phone Number': phone_numbers,\n",
    "        'Fax Number': fax_numbers,\n",
    "        'Website address': clinic_urls,\n",
    "        'Staff Names': staff_names\n",
    "    }\n",
    "    \n",
    "    return info"
   ]
  },
  {
   "cell_type": "code",
   "execution_count": 96,
   "metadata": {},
   "outputs": [
    {
     "name": "stderr",
     "output_type": "stream",
     "text": [
      "100%|██████████| 500/500 [1:06:38<00:00,  8.00s/it]\n"
     ]
    }
   ],
   "source": [
    "output = scrape()"
   ]
  },
  {
   "cell_type": "code",
   "execution_count": 97,
   "metadata": {},
   "outputs": [],
   "source": [
    "df = pd.DataFrame(output)"
   ]
  },
  {
   "cell_type": "code",
   "execution_count": 114,
   "metadata": {},
   "outputs": [
    {
     "data": {
      "text/html": [
       "<div>\n",
       "<style scoped>\n",
       "    .dataframe tbody tr th:only-of-type {\n",
       "        vertical-align: middle;\n",
       "    }\n",
       "\n",
       "    .dataframe tbody tr th {\n",
       "        vertical-align: top;\n",
       "    }\n",
       "\n",
       "    .dataframe thead th {\n",
       "        text-align: right;\n",
       "    }\n",
       "</style>\n",
       "<table border=\"1\" class=\"dataframe\">\n",
       "  <thead>\n",
       "    <tr style=\"text-align: right;\">\n",
       "      <th></th>\n",
       "      <th>Clinic Name</th>\n",
       "      <th>Clinic Street Address</th>\n",
       "      <th>City</th>\n",
       "      <th>State</th>\n",
       "      <th>Postcode</th>\n",
       "      <th>Phone Number</th>\n",
       "      <th>Fax Number</th>\n",
       "      <th>Website address</th>\n",
       "      <th>Staff Names</th>\n",
       "    </tr>\n",
       "  </thead>\n",
       "  <tbody>\n",
       "    <tr>\n",
       "      <th>0</th>\n",
       "      <td>Vasse Dental</td>\n",
       "      <td>3/21 Napoleon Promenade</td>\n",
       "      <td>Vasse,</td>\n",
       "      <td>WA</td>\n",
       "      <td>6280</td>\n",
       "      <td>(08)97550548</td>\n",
       "      <td>(08)97550542</td>\n",
       "      <td>http://www.vassedental.com.au</td>\n",
       "      <td>[Dr Tara Gopal, Dr Bryan Fleming, Dr Timothy S...</td>\n",
       "    </tr>\n",
       "    <tr>\n",
       "      <th>1</th>\n",
       "      <td>Allied Dental Ocean Keys</td>\n",
       "      <td>Ocean Keys Shopping Centre</td>\n",
       "      <td>Clarkson,</td>\n",
       "      <td>WA</td>\n",
       "      <td>6030</td>\n",
       "      <td>(08)61746705</td>\n",
       "      <td>1300859359</td>\n",
       "      <td>http://www.allieddental.com.au</td>\n",
       "      <td>[Dr Jeff Luebbert, Dr Cina Yaqub, Dr Sally Cho...</td>\n",
       "    </tr>\n",
       "    <tr>\n",
       "      <th>2</th>\n",
       "      <td>All Dental Pinjarra</td>\n",
       "      <td>39 McLarty road</td>\n",
       "      <td>Pinjarra,</td>\n",
       "      <td>WA</td>\n",
       "      <td>6208</td>\n",
       "      <td>(08)65556503</td>\n",
       "      <td>None</td>\n",
       "      <td>http://www.alldentalpinjarra.com.au</td>\n",
       "      <td>[Dr Lee Jasson, Dr Faisal Syed, Dr Sharifa Shaik]</td>\n",
       "    </tr>\n",
       "    <tr>\n",
       "      <th>3</th>\n",
       "      <td>Alkimos Beach Dental Centre</td>\n",
       "      <td>Suite 8 / 15 Graceful Blvd</td>\n",
       "      <td>Alkimos,</td>\n",
       "      <td>WA</td>\n",
       "      <td>6038</td>\n",
       "      <td>(08)95029901</td>\n",
       "      <td>None</td>\n",
       "      <td>https://www.alkimosbeachdental.net.au/</td>\n",
       "      <td>[Dr Paul Boulos - Dentist]</td>\n",
       "    </tr>\n",
       "    <tr>\n",
       "      <th>4</th>\n",
       "      <td>Exceptional Dental Care</td>\n",
       "      <td>Suite 2 / 21 Mell road</td>\n",
       "      <td>Spearwood,</td>\n",
       "      <td>WA</td>\n",
       "      <td>6163</td>\n",
       "      <td>(08)61540330</td>\n",
       "      <td>None</td>\n",
       "      <td>http://www.exceptionaldentalcare.com.au</td>\n",
       "      <td>[Dr Jeremy Foster, Dr Sharifa Shaik, Dr Alexis...</td>\n",
       "    </tr>\n",
       "  </tbody>\n",
       "</table>\n",
       "</div>"
      ],
      "text/plain": [
       "                   Clinic Name       Clinic Street Address        City State  \\\n",
       "0                 Vasse Dental     3/21 Napoleon Promenade      Vasse,    WA   \n",
       "1     Allied Dental Ocean Keys  Ocean Keys Shopping Centre   Clarkson,    WA   \n",
       "2          All Dental Pinjarra             39 McLarty road   Pinjarra,    WA   \n",
       "3  Alkimos Beach Dental Centre  Suite 8 / 15 Graceful Blvd    Alkimos,    WA   \n",
       "4      Exceptional Dental Care      Suite 2 / 21 Mell road  Spearwood,    WA   \n",
       "\n",
       "  Postcode  Phone Number    Fax Number  \\\n",
       "0     6280  (08)97550548  (08)97550542   \n",
       "1     6030  (08)61746705    1300859359   \n",
       "2     6208  (08)65556503          None   \n",
       "3     6038  (08)95029901          None   \n",
       "4     6163  (08)61540330          None   \n",
       "\n",
       "                           Website address  \\\n",
       "0            http://www.vassedental.com.au   \n",
       "1           http://www.allieddental.com.au   \n",
       "2      http://www.alldentalpinjarra.com.au   \n",
       "3   https://www.alkimosbeachdental.net.au/   \n",
       "4  http://www.exceptionaldentalcare.com.au   \n",
       "\n",
       "                                         Staff Names  \n",
       "0  [Dr Tara Gopal, Dr Bryan Fleming, Dr Timothy S...  \n",
       "1  [Dr Jeff Luebbert, Dr Cina Yaqub, Dr Sally Cho...  \n",
       "2  [Dr Lee Jasson, Dr Faisal Syed, Dr Sharifa Shaik]  \n",
       "3                         [Dr Paul Boulos - Dentist]  \n",
       "4  [Dr Jeremy Foster, Dr Sharifa Shaik, Dr Alexis...  "
      ]
     },
     "execution_count": 114,
     "metadata": {},
     "output_type": "execute_result"
    }
   ],
   "source": [
    "df.head()"
   ]
  },
  {
   "cell_type": "code",
   "execution_count": 118,
   "metadata": {},
   "outputs": [],
   "source": [
    "df.fillna(value='Not available', inplace=True)\n",
    "df['City'] = df['City'].str.replace(',', '')\n",
    "df['Phone Number'] = df['Phone Number'].str.replace('(', '').str.replace( ')' , '')\n",
    "df['Fax Number'] = df['Fax Number'].str.replace('(', '').str.replace(')' , '')"
   ]
  },
  {
   "cell_type": "code",
   "execution_count": 119,
   "metadata": {},
   "outputs": [],
   "source": [
    "df.to_csv(r\"C:\\Users\\Babatolatemi\\Desktop\\Jupyter\\A programss\\DTS\\data train\\dental_clinic_data.csv\")"
   ]
  },
  {
   "cell_type": "code",
   "execution_count": null,
   "metadata": {},
   "outputs": [],
   "source": []
  }
 ],
 "metadata": {
  "kernelspec": {
   "display_name": "Python 3",
   "language": "python",
   "name": "python3"
  },
  "language_info": {
   "codemirror_mode": {
    "name": "ipython",
    "version": 3
   },
   "file_extension": ".py",
   "mimetype": "text/x-python",
   "name": "python",
   "nbconvert_exporter": "python",
   "pygments_lexer": "ipython3",
   "version": "3.7.6"
  }
 },
 "nbformat": 4,
 "nbformat_minor": 4
}
