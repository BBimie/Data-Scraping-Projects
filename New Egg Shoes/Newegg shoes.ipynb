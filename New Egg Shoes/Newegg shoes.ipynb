{
 "cells": [
  {
   "cell_type": "code",
   "execution_count": 1,
   "metadata": {},
   "outputs": [],
   "source": [
    "import requests\n",
    "from bs4 import BeautifulSoup\n",
    "import pandas as pd"
   ]
  },
  {
   "cell_type": "code",
   "execution_count": 2,
   "metadata": {},
   "outputs": [],
   "source": [
    "my_url = 'https://www.newegg.com/p/pl?d=shoes'"
   ]
  },
  {
   "cell_type": "code",
   "execution_count": 3,
   "metadata": {},
   "outputs": [],
   "source": [
    "result = requests.get(my_url)"
   ]
  },
  {
   "cell_type": "code",
   "execution_count": 4,
   "metadata": {},
   "outputs": [
    {
     "name": "stdout",
     "output_type": "stream",
     "text": [
      "200\n"
     ]
    }
   ],
   "source": [
    "#confirm if the request was sucessful, an outputof 200 means success\n",
    "print(result.status_code)"
   ]
  },
  {
   "cell_type": "code",
   "execution_count": 5,
   "metadata": {},
   "outputs": [
    {
     "name": "stdout",
     "output_type": "stream",
     "text": [
      "{'Content-Type': 'text/html; charset=utf-8', 'ntCoent-Length': '759727', 'NEL': '{\"report_to\": \"default\", \"max_age\": 2592000}`);', 'Report-To': '{\"group\":\"default\",\"max-age\":10886400,\"include_subdomains\":\"true\",\"endpoints\":[{\"url\":\"https://pf.newegg.com/csp\"}]};', 'Pragma': 'no-cache', 'GA': '0', 'Link': '<https://assets.adobedtm.com>;rel=preconnect,<https://c1.neweggimages.com>;rel=preconnect,<https://promotions.newegg.com>;rel=preconnect,<https://www2.newegg.com>;rel=preconnect,<https://promotions.newegg.com>;rel=preconnect,<https://pf.newegg.com>;rel=preconnect,<https://ec-apis.newegg.com>;rel=preconnect,<https://sealserver.trustwave.com>;rel=preconnect,<https://help.newegg.com>;rel=preconnect,<https://states.newegg.com>;rel=preconnect,<https://fonts.gstatic.com>;rel=preconnect,<https://secure.newegg.com>;rel=preconnect,<https://tags.tiqcdn.com>;rel=preconnect,<https://images10.newegg.com>;rel=preconnect', 'x-server-id': '205', 'X-Frame-Options': 'SAMEORIGIN', 'X-Ver': '12091901', 'x-newegg-flow': 'MISS', 'X-newegg-index': '0', 'Accept-Ranges': 'bytes', 'Content-Security-Policy': 'upgrade-insecure-requests', 'Content-Encoding': 'gzip', 'Cache-Control': 'no-cache', 'Expires': 'Sun, 29 Dec 2019 11:22:35 GMT', 'Date': 'Sun, 29 Dec 2019 11:22:35 GMT', 'Transfer-Encoding': 'chunked', 'Connection': 'keep-alive, Transfer-Encoding', 'Vary': 'Accept-Encoding', 'Set-Cookie': 'NVTC=248326808.0001.3ahqsm9se.1577618554.1577618554.1577618554.1; domain=.newegg.com; expires=Wed, 28-Dec-22 11:22:34 GMT; path=/;secure, NID=8O0M2Q4M5z349D5z1j; domain=.newegg.com; expires=Wed, 28-Dec-22 11:22:34 GMT; path=/;secure, NV_NVTCTIMESTAMP=1577618555; domain=.newegg.com; expires=Wed, 28-Dec-22 11:22:34 GMT; path=/;secure, NSC_mc-xxx.ofxfhh.dpn-vsmibti=5ccba3d8e5298caab4a589a9faf558cf92718980218706d442222e96b59e237f32fc8ef3;expires=Sun, 29-Dec-2019 11:51:04 GMT;path=/;secure', 'Strict-Transport-Security': 'max-age=31536000'}\n"
     ]
    }
   ],
   "source": [
    "#extrainformation on the webpage\n",
    "print(result.headers)"
   ]
  },
  {
   "cell_type": "code",
   "execution_count": 7,
   "metadata": {},
   "outputs": [],
   "source": [
    "#parse and process the source with beautiful soup\n",
    "soup = BeautifulSoup(src, 'lxml')"
   ]
  },
  {
   "cell_type": "code",
   "execution_count": 47,
   "metadata": {},
   "outputs": [],
   "source": [
    "import csv\n",
    "import requests\n",
    "from bs4 import BeautifulSoup    \n",
    "import datetime\n",
    "\n",
    "end_page_num = 50\n",
    "\n",
    "filename = \"new_egg_shoes.csv\"\n",
    "with open(filename, \"w+\") as f:\n",
    "\n",
    "    writer = csv.writer(f)\n",
    "    writer.writerow([\"Name\",\"Normal_price\",\"Discount_price\", 'Shipping', 'Data'])\n",
    "    i = 1\n",
    "    while i <= end_page_num:\n",
    "\n",
    "        r = requests.get(\"https://www.newegg.com/p/pl?d=shoes&Page={}\".format(i))\n",
    "\n",
    "        soup = BeautifulSoup(r.text, \"html.parser\")\n",
    "        list_wrap = soup.findAll('div', {'class' : 'item-container'})\n",
    "        x = list_wrap[4:]\n",
    "        \n",
    "        for item in x:\n",
    "            Name = item.find('a', class_ = 'item-title').get_text()\n",
    "    \n",
    "            item_price_old = item.find('li',  class_=\"price-was\").get_text().strip()\n",
    "            Normal_price = item_price_old[0:7]\n",
    "    \n",
    "            current_prices = item.find('li', {'class' : \"price-current\"})\n",
    "            Discount_price = '$' + (current_prices.strong).get_text() + (current_prices.sup).get_text()\n",
    "    \n",
    "            Shipping = item.find('li',  {'class' :\"price-ship\"}).get_text().strip()\n",
    "            writer.writerow([Name, Normal_price, Discount_price, Shipping, datetime.datetime.now()])\n",
    "        i += 1"
   ]
  },
  {
   "cell_type": "code",
   "execution_count": 2,
   "metadata": {},
   "outputs": [],
   "source": [
    "new_egg = pd.read_csv('new_egg_shoes.csv', encoding='latin-1')"
   ]
  },
  {
   "cell_type": "code",
   "execution_count": 3,
   "metadata": {},
   "outputs": [
    {
     "data": {
      "text/html": [
       "<div>\n",
       "<style scoped>\n",
       "    .dataframe tbody tr th:only-of-type {\n",
       "        vertical-align: middle;\n",
       "    }\n",
       "\n",
       "    .dataframe tbody tr th {\n",
       "        vertical-align: top;\n",
       "    }\n",
       "\n",
       "    .dataframe thead th {\n",
       "        text-align: right;\n",
       "    }\n",
       "</style>\n",
       "<table border=\"1\" class=\"dataframe\">\n",
       "  <thead>\n",
       "    <tr style=\"text-align: right;\">\n",
       "      <th></th>\n",
       "      <th>Name</th>\n",
       "      <th>Normal_price</th>\n",
       "      <th>Discount_price</th>\n",
       "      <th>Shipping</th>\n",
       "      <th>Data</th>\n",
       "    </tr>\n",
       "  </thead>\n",
       "  <tbody>\n",
       "    <tr>\n",
       "      <th>0</th>\n",
       "      <td>Nike Satire L Black/Black-Anthracite 654431-00...</td>\n",
       "      <td>NaN</td>\n",
       "      <td>$21.50</td>\n",
       "      <td>Free Shipping</td>\n",
       "      <td>2019-12-30 10:50:21.362553</td>\n",
       "    </tr>\n",
       "    <tr>\n",
       "      <th>1</th>\n",
       "      <td>Lucky Brand Mens Gaston Leather Plain Toe Boot</td>\n",
       "      <td>$130.00</td>\n",
       "      <td>$89.99</td>\n",
       "      <td>Free Shipping</td>\n",
       "      <td>2019-12-30 10:50:21.362553</td>\n",
       "    </tr>\n",
       "    <tr>\n",
       "      <th>2</th>\n",
       "      <td>Adidas ZX Flux W White/White-Gold BY9216 Women...</td>\n",
       "      <td>NaN</td>\n",
       "      <td>$19.74</td>\n",
       "      <td>Free Shipping</td>\n",
       "      <td>2019-12-30 10:50:21.362553</td>\n",
       "    </tr>\n",
       "    <tr>\n",
       "      <th>3</th>\n",
       "      <td>Nike Men's Tennis Classic CS Suede Tennis Shoe</td>\n",
       "      <td>NaN</td>\n",
       "      <td>$21.50</td>\n",
       "      <td>Free Shipping</td>\n",
       "      <td>2019-12-30 10:50:21.362553</td>\n",
       "    </tr>\n",
       "    <tr>\n",
       "      <th>4</th>\n",
       "      <td>Puma Fat Lace + Steel Grey/Mulberry Purple  Me...</td>\n",
       "      <td>NaN</td>\n",
       "      <td>$21.50</td>\n",
       "      <td>Free Shipping</td>\n",
       "      <td>2019-12-30 10:50:21.362553</td>\n",
       "    </tr>\n",
       "  </tbody>\n",
       "</table>\n",
       "</div>"
      ],
      "text/plain": [
       "                                                Name Normal_price  \\\n",
       "0  Nike Satire L Black/Black-Anthracite 654431-00...          NaN   \n",
       "1     Lucky Brand Mens Gaston Leather Plain Toe Boot      $130.00   \n",
       "2  Adidas ZX Flux W White/White-Gold BY9216 Women...          NaN   \n",
       "3     Nike Men's Tennis Classic CS Suede Tennis Shoe          NaN   \n",
       "4  Puma Fat Lace + Steel Grey/Mulberry Purple  Me...          NaN   \n",
       "\n",
       "  Discount_price       Shipping                        Data  \n",
       "0         $21.50  Free Shipping  2019-12-30 10:50:21.362553  \n",
       "1         $89.99  Free Shipping  2019-12-30 10:50:21.362553  \n",
       "2         $19.74  Free Shipping  2019-12-30 10:50:21.362553  \n",
       "3         $21.50  Free Shipping  2019-12-30 10:50:21.362553  \n",
       "4         $21.50  Free Shipping  2019-12-30 10:50:21.362553  "
      ]
     },
     "execution_count": 3,
     "metadata": {},
     "output_type": "execute_result"
    }
   ],
   "source": [
    "new_egg.head()"
   ]
  },
  {
   "cell_type": "code",
   "execution_count": 4,
   "metadata": {},
   "outputs": [
    {
     "name": "stdout",
     "output_type": "stream",
     "text": [
      "<class 'pandas.core.frame.DataFrame'>\n",
      "RangeIndex: 1800 entries, 0 to 1799\n",
      "Data columns (total 5 columns):\n",
      "Name              1800 non-null object\n",
      "Normal_price      1045 non-null object\n",
      "Discount_price    1800 non-null object\n",
      "Shipping          1800 non-null object\n",
      "Data              1800 non-null object\n",
      "dtypes: object(5)\n",
      "memory usage: 70.4+ KB\n"
     ]
    }
   ],
   "source": [
    "new_egg.info()"
   ]
  },
  {
   "cell_type": "code",
   "execution_count": 5,
   "metadata": {},
   "outputs": [
    {
     "data": {
      "text/plain": [
       "0          NaN\n",
       "1      $130.00\n",
       "2          NaN\n",
       "3          NaN\n",
       "4          NaN\n",
       "5          NaN\n",
       "6      $120.00\n",
       "7     $90.00\\r\n",
       "8     $95.98\\r\n",
       "9      $199.00\n",
       "10     $199.00\n",
       "11     $117.49\n",
       "12         NaN\n",
       "13    $95.98\\r\n",
       "14    $87.50\\r\n",
       "15    $75.00\\r\n",
       "16    $75.00\\r\n",
       "17    $38.00\\r\n",
       "18         NaN\n",
       "19         NaN\n",
       "Name: Normal_price, dtype: object"
      ]
     },
     "execution_count": 5,
     "metadata": {},
     "output_type": "execute_result"
    }
   ],
   "source": [
    "new_egg['Normal_price'].head(20)"
   ]
  },
  {
   "cell_type": "code",
   "execution_count": null,
   "metadata": {},
   "outputs": [],
   "source": []
  }
 ],
 "metadata": {
  "kernelspec": {
   "display_name": "Python 3",
   "language": "python",
   "name": "python3"
  },
  "language_info": {
   "codemirror_mode": {
    "name": "ipython",
    "version": 3
   },
   "file_extension": ".py",
   "mimetype": "text/x-python",
   "name": "python",
   "nbconvert_exporter": "python",
   "pygments_lexer": "ipython3",
   "version": "3.7.6"
  }
 },
 "nbformat": 4,
 "nbformat_minor": 2
}
