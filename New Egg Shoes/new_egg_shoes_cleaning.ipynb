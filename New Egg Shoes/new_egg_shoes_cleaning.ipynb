{
 "cells": [
  {
   "cell_type": "code",
   "execution_count": 5,
   "metadata": {},
   "outputs": [],
   "source": [
    "import pandas as pd\n",
    "import numpy as np\n",
    "import matplotlib.pyplot as plt"
   ]
  },
  {
   "cell_type": "code",
   "execution_count": 7,
   "metadata": {},
   "outputs": [
    {
     "data": {
      "text/html": [
       "<div>\n",
       "<style scoped>\n",
       "    .dataframe tbody tr th:only-of-type {\n",
       "        vertical-align: middle;\n",
       "    }\n",
       "\n",
       "    .dataframe tbody tr th {\n",
       "        vertical-align: top;\n",
       "    }\n",
       "\n",
       "    .dataframe thead th {\n",
       "        text-align: right;\n",
       "    }\n",
       "</style>\n",
       "<table border=\"1\" class=\"dataframe\">\n",
       "  <thead>\n",
       "    <tr style=\"text-align: right;\">\n",
       "      <th></th>\n",
       "      <th>Name</th>\n",
       "      <th>Normal_price</th>\n",
       "      <th>Discount_price</th>\n",
       "      <th>Shipping</th>\n",
       "      <th>Data</th>\n",
       "    </tr>\n",
       "  </thead>\n",
       "  <tbody>\n",
       "    <tr>\n",
       "      <th>0</th>\n",
       "      <td>Nike Satire L Black/Black-Anthracite 654431-00...</td>\n",
       "      <td>NaN</td>\n",
       "      <td>$21.50</td>\n",
       "      <td>Free Shipping</td>\n",
       "      <td>2019-12-30 10:50:21.362553</td>\n",
       "    </tr>\n",
       "    <tr>\n",
       "      <th>1</th>\n",
       "      <td>Lucky Brand Mens Gaston Leather Plain Toe Boot</td>\n",
       "      <td>$130.00</td>\n",
       "      <td>$89.99</td>\n",
       "      <td>Free Shipping</td>\n",
       "      <td>2019-12-30 10:50:21.362553</td>\n",
       "    </tr>\n",
       "    <tr>\n",
       "      <th>2</th>\n",
       "      <td>Adidas ZX Flux W White/White-Gold BY9216 Women...</td>\n",
       "      <td>NaN</td>\n",
       "      <td>$19.74</td>\n",
       "      <td>Free Shipping</td>\n",
       "      <td>2019-12-30 10:50:21.362553</td>\n",
       "    </tr>\n",
       "    <tr>\n",
       "      <th>3</th>\n",
       "      <td>Nike Men's Tennis Classic CS Suede Tennis Shoe</td>\n",
       "      <td>NaN</td>\n",
       "      <td>$21.50</td>\n",
       "      <td>Free Shipping</td>\n",
       "      <td>2019-12-30 10:50:21.362553</td>\n",
       "    </tr>\n",
       "    <tr>\n",
       "      <th>4</th>\n",
       "      <td>Puma Fat Lace + Steel Grey/Mulberry Purple  Me...</td>\n",
       "      <td>NaN</td>\n",
       "      <td>$21.50</td>\n",
       "      <td>Free Shipping</td>\n",
       "      <td>2019-12-30 10:50:21.362553</td>\n",
       "    </tr>\n",
       "  </tbody>\n",
       "</table>\n",
       "</div>"
      ],
      "text/plain": [
       "                                                Name Normal_price  \\\n",
       "0  Nike Satire L Black/Black-Anthracite 654431-00...          NaN   \n",
       "1     Lucky Brand Mens Gaston Leather Plain Toe Boot      $130.00   \n",
       "2  Adidas ZX Flux W White/White-Gold BY9216 Women...          NaN   \n",
       "3     Nike Men's Tennis Classic CS Suede Tennis Shoe          NaN   \n",
       "4  Puma Fat Lace + Steel Grey/Mulberry Purple  Me...          NaN   \n",
       "\n",
       "  Discount_price       Shipping                        Data  \n",
       "0         $21.50  Free Shipping  2019-12-30 10:50:21.362553  \n",
       "1         $89.99  Free Shipping  2019-12-30 10:50:21.362553  \n",
       "2         $19.74  Free Shipping  2019-12-30 10:50:21.362553  \n",
       "3         $21.50  Free Shipping  2019-12-30 10:50:21.362553  \n",
       "4         $21.50  Free Shipping  2019-12-30 10:50:21.362553  "
      ]
     },
     "execution_count": 7,
     "metadata": {},
     "output_type": "execute_result"
    }
   ],
   "source": [
    "shoes = pd.read_csv(\"new_egg_shoes.csv\", encoding='latin-1')\n",
    "shoes.head()"
   ]
  },
  {
   "cell_type": "code",
   "execution_count": 8,
   "metadata": {},
   "outputs": [
    {
     "name": "stdout",
     "output_type": "stream",
     "text": [
      "<class 'pandas.core.frame.DataFrame'>\n",
      "RangeIndex: 1800 entries, 0 to 1799\n",
      "Data columns (total 5 columns):\n",
      "Name              1800 non-null object\n",
      "Normal_price      1045 non-null object\n",
      "Discount_price    1800 non-null object\n",
      "Shipping          1800 non-null object\n",
      "Data              1800 non-null object\n",
      "dtypes: object(5)\n",
      "memory usage: 70.4+ KB\n"
     ]
    }
   ],
   "source": [
    "shoes.info()"
   ]
  },
  {
   "cell_type": "markdown",
   "metadata": {},
   "source": [
    "# Cleaning process\n",
    "\n",
    "The shoes dataframe needs to be cleaned before analysis can be done. Some of the actions I am going to take, include;\n",
    "- I'm going to extract the brand name from the name column and create a new brand column, it is the first word in the shoe name\n",
    "- I am going to be renaming some columns for better understanding of the data\n",
    "- Some values are missing in the Old_price column, what this means is that the shoe does not have a discounted\n",
    "- the values in the price columns have special characters, I'll remove the special characters and make the columns numeric\n",
    "- the dataset contains the date scraped column, I'll just clean that so that it can make more sense"
   ]
  },
  {
   "cell_type": "code",
   "execution_count": 9,
   "metadata": {},
   "outputs": [
    {
     "data": {
      "text/plain": [
       "0              Nike\n",
       "1             Lucky\n",
       "2            Adidas\n",
       "3              Nike\n",
       "4              Puma\n",
       "5              Puma\n",
       "6              Puma\n",
       "7              Puma\n",
       "8          Skechers\n",
       "9               Air\n",
       "10              Air\n",
       "11            AdTec\n",
       "12         CHURCH'S\n",
       "13         Lonsdale\n",
       "14           Alpine\n",
       "15           Alpine\n",
       "16      AlpineSwiss\n",
       "17           Alpine\n",
       "18         Converse\n",
       "19         Converse\n",
       "20           Magnum\n",
       "21              Air\n",
       "22              men\n",
       "23              Air\n",
       "24             Puma\n",
       "25              New\n",
       "26              New\n",
       "27             Puma\n",
       "28           Adidas\n",
       "29           Adidas\n",
       "           ...     \n",
       "1770            Old\n",
       "1771        Chinese\n",
       "1772        Chinese\n",
       "1773            Old\n",
       "1774            Old\n",
       "1775        Beijing\n",
       "1776        Vintage\n",
       "1777         Summer\n",
       "1778        Chinese\n",
       "1779        Beijing\n",
       "1780        Beijing\n",
       "1781            Old\n",
       "1782        Chinese\n",
       "1783       Cowhells\n",
       "1784        Chinese\n",
       "1785            Old\n",
       "1786          Small\n",
       "1787          Small\n",
       "1788         Spring\n",
       "1789            Old\n",
       "1790            Old\n",
       "1791            Old\n",
       "1792            Old\n",
       "1793            Old\n",
       "1794            Old\n",
       "1795            New\n",
       "1796        Chinese\n",
       "1797            Old\n",
       "1798            Old\n",
       "1799            Old\n",
       "Name: Brand, Length: 1800, dtype: object"
      ]
     },
     "execution_count": 9,
     "metadata": {},
     "output_type": "execute_result"
    }
   ],
   "source": [
    "# new data frame with split value columns \n",
    "new = shoes[\"Name\"].str.split(\" \", n = 1, expand = True) \n",
    "  \n",
    "# making separate first name column from new data frame \n",
    "shoes[\"Brand\"]= new[0]\n",
    "shoes[\"Brand\"]"
   ]
  },
  {
   "cell_type": "code",
   "execution_count": 10,
   "metadata": {},
   "outputs": [],
   "source": [
    "#column renaming\n",
    "shoes.rename(columns={'Normal_price':'Old_price($)', 'Discount_price': 'Current_price($)', 'Data' : 'Date_Scraped'}, inplace=True)"
   ]
  },
  {
   "cell_type": "code",
   "execution_count": 15,
   "metadata": {},
   "outputs": [],
   "source": [
    "#set all the nan values in the old_price column to zero\n",
    "shoes['Old_price($)'] = shoes['Old_price($)'].fillna(0)"
   ]
  },
  {
   "cell_type": "code",
   "execution_count": 12,
   "metadata": {},
   "outputs": [],
   "source": [
    "#remove the special characters from the price columns and convert the column to a numeric one\n",
    "shoes['Old_price($)'] = shoes['Old_price($)'].str.replace('$', '').str.replace('\\r', '').str.strip().astype(float)\n",
    "shoes['Current_price($)'] = shoes['Current_price($)'].str.replace('$', '').str.replace(',', '').str.strip().astype(float)"
   ]
  },
  {
   "cell_type": "code",
   "execution_count": 13,
   "metadata": {},
   "outputs": [
    {
     "data": {
      "text/plain": [
       "0       2019-12-30 10:50:21\n",
       "1       2019-12-30 10:50:21\n",
       "2       2019-12-30 10:50:21\n",
       "3       2019-12-30 10:50:21\n",
       "4       2019-12-30 10:50:21\n",
       "5       2019-12-30 10:50:21\n",
       "6       2019-12-30 10:50:21\n",
       "7       2019-12-30 10:50:21\n",
       "8       2019-12-30 10:50:21\n",
       "9       2019-12-30 10:50:21\n",
       "10      2019-12-30 10:50:21\n",
       "11      2019-12-30 10:50:21\n",
       "12      2019-12-30 10:50:21\n",
       "13      2019-12-30 10:50:21\n",
       "14      2019-12-30 10:50:21\n",
       "15      2019-12-30 10:50:21\n",
       "16      2019-12-30 10:50:21\n",
       "17      2019-12-30 10:50:21\n",
       "18      2019-12-30 10:50:21\n",
       "19      2019-12-30 10:50:21\n",
       "20      2019-12-30 10:50:21\n",
       "21      2019-12-30 10:50:21\n",
       "22      2019-12-30 10:50:21\n",
       "23      2019-12-30 10:50:21\n",
       "24      2019-12-30 10:50:21\n",
       "25      2019-12-30 10:50:21\n",
       "26      2019-12-30 10:50:21\n",
       "27      2019-12-30 10:50:21\n",
       "28      2019-12-30 10:50:21\n",
       "29      2019-12-30 10:50:21\n",
       "               ...         \n",
       "1770    2019-12-30 10:54:17\n",
       "1771    2019-12-30 10:54:17\n",
       "1772    2019-12-30 10:54:17\n",
       "1773    2019-12-30 10:54:17\n",
       "1774    2019-12-30 10:54:17\n",
       "1775    2019-12-30 10:54:17\n",
       "1776    2019-12-30 10:54:17\n",
       "1777    2019-12-30 10:54:17\n",
       "1778    2019-12-30 10:54:17\n",
       "1779    2019-12-30 10:54:17\n",
       "1780    2019-12-30 10:54:17\n",
       "1781    2019-12-30 10:54:17\n",
       "1782    2019-12-30 10:54:17\n",
       "1783    2019-12-30 10:54:17\n",
       "1784    2019-12-30 10:54:17\n",
       "1785    2019-12-30 10:54:17\n",
       "1786    2019-12-30 10:54:17\n",
       "1787    2019-12-30 10:54:17\n",
       "1788    2019-12-30 10:54:17\n",
       "1789    2019-12-30 10:54:17\n",
       "1790    2019-12-30 10:54:17\n",
       "1791    2019-12-30 10:54:17\n",
       "1792    2019-12-30 10:54:17\n",
       "1793    2019-12-30 10:54:17\n",
       "1794    2019-12-30 10:54:17\n",
       "1795    2019-12-30 10:54:17\n",
       "1796    2019-12-30 10:54:17\n",
       "1797    2019-12-30 10:54:17\n",
       "1798    2019-12-30 10:54:17\n",
       "1799    2019-12-30 10:54:17\n",
       "Name: Date_Scraped, Length: 1800, dtype: object"
      ]
     },
     "execution_count": 13,
     "metadata": {},
     "output_type": "execute_result"
    }
   ],
   "source": [
    "#clean the date scraped column\n",
    "new = shoes['Date_Scraped'].str.split(\".\", n = 1, expand = True)\n",
    "shoes['Date_Scraped']= new[0]\n",
    "shoes['Date_Scraped']"
   ]
  },
  {
   "cell_type": "code",
   "execution_count": 16,
   "metadata": {},
   "outputs": [
    {
     "data": {
      "text/html": [
       "<div>\n",
       "<style scoped>\n",
       "    .dataframe tbody tr th:only-of-type {\n",
       "        vertical-align: middle;\n",
       "    }\n",
       "\n",
       "    .dataframe tbody tr th {\n",
       "        vertical-align: top;\n",
       "    }\n",
       "\n",
       "    .dataframe thead th {\n",
       "        text-align: right;\n",
       "    }\n",
       "</style>\n",
       "<table border=\"1\" class=\"dataframe\">\n",
       "  <thead>\n",
       "    <tr style=\"text-align: right;\">\n",
       "      <th></th>\n",
       "      <th>Name</th>\n",
       "      <th>Old_price($)</th>\n",
       "      <th>Current_price($)</th>\n",
       "      <th>Shipping</th>\n",
       "      <th>Date_Scraped</th>\n",
       "      <th>Brand</th>\n",
       "    </tr>\n",
       "  </thead>\n",
       "  <tbody>\n",
       "    <tr>\n",
       "      <th>0</th>\n",
       "      <td>Nike Satire L Black/Black-Anthracite 654431-00...</td>\n",
       "      <td>0.0</td>\n",
       "      <td>21.50</td>\n",
       "      <td>Free Shipping</td>\n",
       "      <td>2019-12-30 10:50:21</td>\n",
       "      <td>Nike</td>\n",
       "    </tr>\n",
       "    <tr>\n",
       "      <th>1</th>\n",
       "      <td>Lucky Brand Mens Gaston Leather Plain Toe Boot</td>\n",
       "      <td>130.0</td>\n",
       "      <td>89.99</td>\n",
       "      <td>Free Shipping</td>\n",
       "      <td>2019-12-30 10:50:21</td>\n",
       "      <td>Lucky</td>\n",
       "    </tr>\n",
       "    <tr>\n",
       "      <th>2</th>\n",
       "      <td>Adidas ZX Flux W White/White-Gold BY9216 Women...</td>\n",
       "      <td>0.0</td>\n",
       "      <td>19.74</td>\n",
       "      <td>Free Shipping</td>\n",
       "      <td>2019-12-30 10:50:21</td>\n",
       "      <td>Adidas</td>\n",
       "    </tr>\n",
       "    <tr>\n",
       "      <th>3</th>\n",
       "      <td>Nike Men's Tennis Classic CS Suede Tennis Shoe</td>\n",
       "      <td>0.0</td>\n",
       "      <td>21.50</td>\n",
       "      <td>Free Shipping</td>\n",
       "      <td>2019-12-30 10:50:21</td>\n",
       "      <td>Nike</td>\n",
       "    </tr>\n",
       "    <tr>\n",
       "      <th>4</th>\n",
       "      <td>Puma Fat Lace + Steel Grey/Mulberry Purple  Me...</td>\n",
       "      <td>0.0</td>\n",
       "      <td>21.50</td>\n",
       "      <td>Free Shipping</td>\n",
       "      <td>2019-12-30 10:50:21</td>\n",
       "      <td>Puma</td>\n",
       "    </tr>\n",
       "  </tbody>\n",
       "</table>\n",
       "</div>"
      ],
      "text/plain": [
       "                                                Name  Old_price($)  \\\n",
       "0  Nike Satire L Black/Black-Anthracite 654431-00...           0.0   \n",
       "1     Lucky Brand Mens Gaston Leather Plain Toe Boot         130.0   \n",
       "2  Adidas ZX Flux W White/White-Gold BY9216 Women...           0.0   \n",
       "3     Nike Men's Tennis Classic CS Suede Tennis Shoe           0.0   \n",
       "4  Puma Fat Lace + Steel Grey/Mulberry Purple  Me...           0.0   \n",
       "\n",
       "   Current_price($)       Shipping         Date_Scraped   Brand  \n",
       "0             21.50  Free Shipping  2019-12-30 10:50:21    Nike  \n",
       "1             89.99  Free Shipping  2019-12-30 10:50:21   Lucky  \n",
       "2             19.74  Free Shipping  2019-12-30 10:50:21  Adidas  \n",
       "3             21.50  Free Shipping  2019-12-30 10:50:21    Nike  \n",
       "4             21.50  Free Shipping  2019-12-30 10:50:21    Puma  "
      ]
     },
     "execution_count": 16,
     "metadata": {},
     "output_type": "execute_result"
    }
   ],
   "source": [
    "shoes.head()"
   ]
  },
  {
   "cell_type": "code",
   "execution_count": 19,
   "metadata": {},
   "outputs": [],
   "source": [
    "shoes.to_csv(r\"C:\\Users\\Babatolatemi\\Desktop\\Jupyter\\new_egg\\new_egg_shoes_cleaned.csv\")"
   ]
  },
  {
   "cell_type": "code",
   "execution_count": null,
   "metadata": {},
   "outputs": [],
   "source": []
  }
 ],
 "metadata": {
  "kernelspec": {
   "display_name": "Python 3",
   "language": "python",
   "name": "python3"
  },
  "language_info": {
   "codemirror_mode": {
    "name": "ipython",
    "version": 3
   },
   "file_extension": ".py",
   "mimetype": "text/x-python",
   "name": "python",
   "nbconvert_exporter": "python",
   "pygments_lexer": "ipython3",
   "version": "3.7.6"
  }
 },
 "nbformat": 4,
 "nbformat_minor": 2
}
